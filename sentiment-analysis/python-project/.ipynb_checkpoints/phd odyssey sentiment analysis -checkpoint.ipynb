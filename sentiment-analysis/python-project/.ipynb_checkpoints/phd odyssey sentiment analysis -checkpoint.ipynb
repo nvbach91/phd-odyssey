{
 "cells": [
  {
   "cell_type": "markdown",
   "metadata": {},
   "source": [
    "# PhD odyssey sentiment analysis "
   ]
  },
  {
   "cell_type": "markdown",
   "metadata": {},
   "source": [
    "## Expected directory structure\n",
    "\n",
    "\n",
    "* Dataset <- Store all the files in .txt \n",
    "\n",
    "## In this Notebook:\n",
    "\n",
    "* Data pre-processing\n",
    "\n",
    "      1. Convert the word and pdf files in .txt\n",
    "      2. Split the text in line with author name \n",
    "      3. Remove special characters\n",
    "      4. POS tag\n",
    "      5. Lemmatization\n",
    "\n",
    "\n",
    "* PhD odyssey sentiment analysis using  \n",
    "\n",
    "      1. Vader\n",
    "      2. TextBlob\n",
    "      3. Flair (Flair pretrained sentiment analysis model is trained on IMDB dataset)\n",
    "      4. SentiWordNet (I also used this one, but I think, it is not working well for this data)\n",
    "      \n",
    "* Output \n",
    "\n",
    "      1. Positive sentence\n",
    "      2. Negative sentence\n",
    "      3. Neutral sentence\n",
    "      \n"
   ]
  },
  {
   "cell_type": "markdown",
   "metadata": {},
   "source": [
    "## Libraries"
   ]
  },
  {
   "cell_type": "code",
   "execution_count": 87,
   "metadata": {},
   "outputs": [
    {
     "name": "stderr",
     "output_type": "stream",
     "text": [
      "[nltk_data] Downloading package punkt to /home/tourist800/nltk_data...\n",
      "[nltk_data]   Package punkt is already up-to-date!\n",
      "[nltk_data] Downloading package stopwords to\n",
      "[nltk_data]     /home/tourist800/nltk_data...\n",
      "[nltk_data]   Package stopwords is already up-to-date!\n",
      "[nltk_data] Downloading package wordnet to\n",
      "[nltk_data]     /home/tourist800/nltk_data...\n",
      "[nltk_data]   Package wordnet is already up-to-date!\n",
      "[nltk_data] Downloading package sentiwordnet to\n",
      "[nltk_data]     /home/tourist800/nltk_data...\n",
      "[nltk_data]   Package sentiwordnet is already up-to-date!\n"
     ]
    }
   ],
   "source": [
    "import pandas as pd\n",
    "from os import listdir\n",
    "from os.path import isfile, join\n",
    "import re\n",
    "import nltk\n",
    "nltk.download('punkt')\n",
    "from nltk.tokenize import word_tokenize\n",
    "from nltk import pos_tag\n",
    "nltk.download('stopwords')\n",
    "from nltk.corpus import stopwords\n",
    "nltk.download('wordnet')\n",
    "from nltk.corpus import wordnet\n",
    "from nltk.stem import WordNetLemmatizer\n",
    "wordnet_lemmatizer = WordNetLemmatizer()\n",
    "from vaderSentiment.vaderSentiment import SentimentIntensityAnalyzer\n",
    "from textblob import TextBlob\n",
    "nltk.download('sentiwordnet')\n",
    "from nltk.corpus import sentiwordnet as swn\n",
    "from flair.models import TextClassifier\n",
    "from flair.data import Sentence"
   ]
  },
  {
   "cell_type": "markdown",
   "metadata": {},
   "source": [
    "## Create DF"
   ]
  },
  {
   "cell_type": "code",
   "execution_count": 88,
   "metadata": {},
   "outputs": [],
   "source": [
    "def create_df(folder_path):\n",
    "    files = [f for f in listdir(folder_path) if isfile(join(folder_path, f))]\n",
    "    \n",
    "    df_list = []\n",
    "    \n",
    "    for file in files:\n",
    "        file_path_open = folder_path+ \"/\" + file\n",
    "        with open(file_path_open, encoding=\"utf8\", errors='ignore') as f:\n",
    "            file_read = f.read()\n",
    "            \n",
    "            text_split = file_read.split(\".\")\n",
    "            for i in range(0,len(text_split),1):\n",
    "                remove_newline = text_split[i].replace('\\n', ' ').replace('\\r', '')\n",
    "                if len(remove_newline.split(\" \"))>2:\n",
    "                    df_list.append([remove_newline,file.replace('.txt','')])\n",
    "                \n",
    "    return df_list"
   ]
  },
  {
   "cell_type": "code",
   "execution_count": 89,
   "metadata": {},
   "outputs": [],
   "source": [
    "folder_path = 'Dataset'"
   ]
  },
  {
   "cell_type": "code",
   "execution_count": 90,
   "metadata": {},
   "outputs": [],
   "source": [
    "pd_list = create_df(folder_path)"
   ]
  },
  {
   "cell_type": "code",
   "execution_count": 91,
   "metadata": {},
   "outputs": [
    {
     "data": {
      "text/plain": [
       "1916"
      ]
     },
     "execution_count": 91,
     "metadata": {},
     "output_type": "execute_result"
    }
   ],
   "source": [
    "len(pd_list)"
   ]
  },
  {
   "cell_type": "code",
   "execution_count": 92,
   "metadata": {},
   "outputs": [],
   "source": [
    "df = pd.DataFrame(pd_list, columns = ['Sentence', 'Author_name'])"
   ]
  },
  {
   "cell_type": "code",
   "execution_count": 93,
   "metadata": {},
   "outputs": [
    {
     "data": {
      "text/plain": [
       "Erin's story - dropout          497\n",
       "Jean-Yang                       304\n",
       "Per-Olof-Arnäs                  236\n",
       "Jindrich's story                213\n",
       "Luca-Forcucci                   167\n",
       "Elena's story                   121\n",
       "Katrin-Franke                   108\n",
       "Jillian's story                  66\n",
       "Joshua-Dawes                     55\n",
       "Jack's story                     50\n",
       "Geneviève-Grégoire-Labrecque     43\n",
       "Vasanth-Sarathy                  31\n",
       "Simona-Alexandra                 25\n",
       "Name: Author_name, dtype: int64"
      ]
     },
     "execution_count": 93,
     "metadata": {},
     "output_type": "execute_result"
    }
   ],
   "source": [
    "df.Author_name.value_counts()"
   ]
  },
  {
   "cell_type": "code",
   "execution_count": 94,
   "metadata": {},
   "outputs": [],
   "source": [
    "df.to_csv('phd_odyssey_sentiment_analysis.csv')"
   ]
  },
  {
   "cell_type": "markdown",
   "metadata": {},
   "source": [
    "## Data preprocessing"
   ]
  },
  {
   "cell_type": "markdown",
   "metadata": {},
   "source": [
    "Removes all special characters and numericals leaving the alphabets"
   ]
  },
  {
   "cell_type": "code",
   "execution_count": 95,
   "metadata": {},
   "outputs": [],
   "source": [
    "def clean(text):\n",
    "    text = re.sub('[^A-Za-z]+', ' ', text)\n",
    "    text = text.replace('\\r', '').replace('\\n', '')\n",
    "    return text"
   ]
  },
  {
   "cell_type": "markdown",
   "metadata": {},
   "source": [
    "POS tagger dictionary"
   ]
  },
  {
   "cell_type": "code",
   "execution_count": 96,
   "metadata": {},
   "outputs": [],
   "source": [
    "pos_dict = {'J':wordnet.ADJ, 'V':wordnet.VERB, 'N':wordnet.NOUN, 'R':wordnet.ADV}\n",
    "\n",
    "def token_stop_pos(text):\n",
    "    tags = pos_tag(word_tokenize(text))\n",
    "    newlist = []\n",
    "    for word, tag in tags:\n",
    "        if word.lower() not in set(stopwords.words('english')):\n",
    "            newlist.append(tuple([word, pos_dict.get(tag[0])]))\n",
    "    return newlist"
   ]
  },
  {
   "cell_type": "markdown",
   "metadata": {},
   "source": [
    "Obtaining the stem words – Lemmatization"
   ]
  },
  {
   "cell_type": "code",
   "execution_count": 97,
   "metadata": {},
   "outputs": [],
   "source": [
    "def lemmatize(pos_data):\n",
    "    lemma_rew = \" \"\n",
    "    for word, pos in pos_data:\n",
    "        if not pos:\n",
    "            lemma = word\n",
    "            lemma_rew = lemma_rew + \" \" + lemma\n",
    "        else:\n",
    "            lemma = wordnet_lemmatizer.lemmatize(word, pos=pos)\n",
    "            lemma_rew = lemma_rew + \" \" + lemma\n",
    "    return lemma_rew"
   ]
  },
  {
   "cell_type": "code",
   "execution_count": 98,
   "metadata": {},
   "outputs": [],
   "source": [
    "df['Sentence_clean'] = df['Sentence'].apply(clean)"
   ]
  },
  {
   "cell_type": "code",
   "execution_count": 99,
   "metadata": {},
   "outputs": [],
   "source": [
    "df['POS_tagged'] = df['Sentence_clean'].apply(token_stop_pos)"
   ]
  },
  {
   "cell_type": "code",
   "execution_count": 100,
   "metadata": {},
   "outputs": [],
   "source": [
    "df['Lemma'] = df['POS_tagged'].apply(lemmatize)"
   ]
  },
  {
   "cell_type": "code",
   "execution_count": 101,
   "metadata": {},
   "outputs": [],
   "source": [
    "df = df.loc[df['Lemma'].str.contains(r'[^\\x00-\\x7F]+') == False]"
   ]
  },
  {
   "cell_type": "code",
   "execution_count": 102,
   "metadata": {},
   "outputs": [
    {
     "data": {
      "text/html": [
       "<div>\n",
       "<style scoped>\n",
       "    .dataframe tbody tr th:only-of-type {\n",
       "        vertical-align: middle;\n",
       "    }\n",
       "\n",
       "    .dataframe tbody tr th {\n",
       "        vertical-align: top;\n",
       "    }\n",
       "\n",
       "    .dataframe thead th {\n",
       "        text-align: right;\n",
       "    }\n",
       "</style>\n",
       "<table border=\"1\" class=\"dataframe\">\n",
       "  <thead>\n",
       "    <tr style=\"text-align: right;\">\n",
       "      <th></th>\n",
       "      <th>Sentence</th>\n",
       "      <th>Author_name</th>\n",
       "      <th>Sentence_clean</th>\n",
       "      <th>POS_tagged</th>\n",
       "      <th>Lemma</th>\n",
       "    </tr>\n",
       "  </thead>\n",
       "  <tbody>\n",
       "    <tr>\n",
       "      <th>0</th>\n",
       "      <td>Our @csmcr alumni - Simona Alexandra, helping ...</td>\n",
       "      <td>Simona-Alexandra</td>\n",
       "      <td>Our csmcr alumni Simona Alexandra helping buil...</td>\n",
       "      <td>[(csmcr, n), (alumni, n), (Simona, n), (Alexan...</td>\n",
       "      <td>csmcr alumnus Simona Alexandra help build so...</td>\n",
       "    </tr>\n",
       "    <tr>\n",
       "      <th>1</th>\n",
       "      <td>She studied BSc in Software Engineering and g...</td>\n",
       "      <td>Simona-Alexandra</td>\n",
       "      <td>She studied BSc in Software Engineering and g...</td>\n",
       "      <td>[(studied, v), (BSc, n), (Software, n), (Engin...</td>\n",
       "      <td>study BSc Software Engineering graduate June</td>\n",
       "    </tr>\n",
       "    <tr>\n",
       "      <th>2</th>\n",
       "      <td>Hello Simona! Can you tell us a bit about yo...</td>\n",
       "      <td>Simona-Alexandra</td>\n",
       "      <td>Hello Simona Can you tell us a bit about your...</td>\n",
       "      <td>[(Hello, n), (Simona, n), (tell, v), (us, None...</td>\n",
       "      <td>Hello Simona tell us bit education universit...</td>\n",
       "    </tr>\n",
       "    <tr>\n",
       "      <th>3</th>\n",
       "      <td>Similar to A levels in the UK, this was my in...</td>\n",
       "      <td>Simona-Alexandra</td>\n",
       "      <td>Similar to A levels in the UK this was my ini...</td>\n",
       "      <td>[(Similar, a), (levels, n), (UK, n), (initial,...</td>\n",
       "      <td>Similar level UK initial foundation towards ...</td>\n",
       "    </tr>\n",
       "    <tr>\n",
       "      <th>4</th>\n",
       "      <td>What career has your BSc in software enginee...</td>\n",
       "      <td>Simona-Alexandra</td>\n",
       "      <td>What career has your BSc in software engineer...</td>\n",
       "      <td>[(career, n), (BSc, n), (software, n), (engine...</td>\n",
       "      <td>career BSc software engineering lead graduat...</td>\n",
       "    </tr>\n",
       "    <tr>\n",
       "      <th>...</th>\n",
       "      <td>...</td>\n",
       "      <td>...</td>\n",
       "      <td>...</td>\n",
       "      <td>...</td>\n",
       "      <td>...</td>\n",
       "    </tr>\n",
       "    <tr>\n",
       "      <th>1911</th>\n",
       "      <td>Follow him on twitter:  @matthew  nolan    Su...</td>\n",
       "      <td>Jack's story</td>\n",
       "      <td>Follow him on twitter matthew nolan Suggested...</td>\n",
       "      <td>[(Follow, n), (twitter, n), (matthew, n), (nol...</td>\n",
       "      <td>Follow twitter matthew nolan Suggested post ...</td>\n",
       "    </tr>\n",
       "    <tr>\n",
       "      <th>1912</th>\n",
       "      <td>You need to log in or register to comment</td>\n",
       "      <td>Jack's story</td>\n",
       "      <td>You need to log in or register to comment</td>\n",
       "      <td>[(need, v), (log, v), (register, n), (comment,...</td>\n",
       "      <td>need log register comment</td>\n",
       "    </tr>\n",
       "    <tr>\n",
       "      <th>1913</th>\n",
       "      <td>0 2021 Springer Nature Limited</td>\n",
       "      <td>Jack's story</td>\n",
       "      <td>Springer Nature Limited</td>\n",
       "      <td>[(Springer, n), (Nature, n), (Limited, v)]</td>\n",
       "      <td>Springer Nature Limited</td>\n",
       "    </tr>\n",
       "    <tr>\n",
       "      <th>1914</th>\n",
       "      <td>All Rights Reserved</td>\n",
       "      <td>Jack's story</td>\n",
       "      <td>All Rights Reserved</td>\n",
       "      <td>[(Rights, n), (Reserved, v)]</td>\n",
       "      <td>Rights Reserved</td>\n",
       "    </tr>\n",
       "    <tr>\n",
       "      <th>1915</th>\n",
       "      <td>partner of AGORA, HINARI, OARE, INASP, ORCID,...</td>\n",
       "      <td>Jack's story</td>\n",
       "      <td>partner of AGORA HINARI OARE INASP ORCID Cros...</td>\n",
       "      <td>[(partner, n), (AGORA, n), (HINARI, n), (OARE,...</td>\n",
       "      <td>partner AGORA HINARI OARE INASP ORCID CrossR...</td>\n",
       "    </tr>\n",
       "  </tbody>\n",
       "</table>\n",
       "<p>1916 rows × 5 columns</p>\n",
       "</div>"
      ],
      "text/plain": [
       "                                               Sentence       Author_name  \\\n",
       "0     Our @csmcr alumni - Simona Alexandra, helping ...  Simona-Alexandra   \n",
       "1      She studied BSc in Software Engineering and g...  Simona-Alexandra   \n",
       "2       Hello Simona! Can you tell us a bit about yo...  Simona-Alexandra   \n",
       "3      Similar to A levels in the UK, this was my in...  Simona-Alexandra   \n",
       "4       What career has your BSc in software enginee...  Simona-Alexandra   \n",
       "...                                                 ...               ...   \n",
       "1911   Follow him on twitter:  @matthew  nolan    Su...      Jack's story   \n",
       "1912          You need to log in or register to comment      Jack's story   \n",
       "1913                     0 2021 Springer Nature Limited      Jack's story   \n",
       "1914                                All Rights Reserved      Jack's story   \n",
       "1915   partner of AGORA, HINARI, OARE, INASP, ORCID,...      Jack's story   \n",
       "\n",
       "                                         Sentence_clean  \\\n",
       "0     Our csmcr alumni Simona Alexandra helping buil...   \n",
       "1      She studied BSc in Software Engineering and g...   \n",
       "2      Hello Simona Can you tell us a bit about your...   \n",
       "3      Similar to A levels in the UK this was my ini...   \n",
       "4      What career has your BSc in software engineer...   \n",
       "...                                                 ...   \n",
       "1911   Follow him on twitter matthew nolan Suggested...   \n",
       "1912          You need to log in or register to comment   \n",
       "1913                            Springer Nature Limited   \n",
       "1914                                All Rights Reserved   \n",
       "1915   partner of AGORA HINARI OARE INASP ORCID Cros...   \n",
       "\n",
       "                                             POS_tagged  \\\n",
       "0     [(csmcr, n), (alumni, n), (Simona, n), (Alexan...   \n",
       "1     [(studied, v), (BSc, n), (Software, n), (Engin...   \n",
       "2     [(Hello, n), (Simona, n), (tell, v), (us, None...   \n",
       "3     [(Similar, a), (levels, n), (UK, n), (initial,...   \n",
       "4     [(career, n), (BSc, n), (software, n), (engine...   \n",
       "...                                                 ...   \n",
       "1911  [(Follow, n), (twitter, n), (matthew, n), (nol...   \n",
       "1912  [(need, v), (log, v), (register, n), (comment,...   \n",
       "1913         [(Springer, n), (Nature, n), (Limited, v)]   \n",
       "1914                       [(Rights, n), (Reserved, v)]   \n",
       "1915  [(partner, n), (AGORA, n), (HINARI, n), (OARE,...   \n",
       "\n",
       "                                                  Lemma  \n",
       "0       csmcr alumnus Simona Alexandra help build so...  \n",
       "1          study BSc Software Engineering graduate June  \n",
       "2       Hello Simona tell us bit education universit...  \n",
       "3       Similar level UK initial foundation towards ...  \n",
       "4       career BSc software engineering lead graduat...  \n",
       "...                                                 ...  \n",
       "1911    Follow twitter matthew nolan Suggested post ...  \n",
       "1912                          need log register comment  \n",
       "1913                            Springer Nature Limited  \n",
       "1914                                    Rights Reserved  \n",
       "1915    partner AGORA HINARI OARE INASP ORCID CrossR...  \n",
       "\n",
       "[1916 rows x 5 columns]"
      ]
     },
     "execution_count": 102,
     "metadata": {},
     "output_type": "execute_result"
    }
   ],
   "source": [
    "df"
   ]
  },
  {
   "cell_type": "code",
   "execution_count": 103,
   "metadata": {},
   "outputs": [],
   "source": [
    "fin_data = pd.DataFrame(df[['Sentence', 'Author_name', 'Lemma']])"
   ]
  },
  {
   "cell_type": "markdown",
   "metadata": {},
   "source": [
    "## Sentiment Analysis using VADER"
   ]
  },
  {
   "cell_type": "code",
   "execution_count": 104,
   "metadata": {},
   "outputs": [],
   "source": [
    "analyzer = SentimentIntensityAnalyzer()"
   ]
  },
  {
   "cell_type": "markdown",
   "metadata": {},
   "source": [
    "function to calculate vader sentiment"
   ]
  },
  {
   "cell_type": "code",
   "execution_count": 105,
   "metadata": {},
   "outputs": [],
   "source": [
    "def vadersentimentanalysis(review):\n",
    "    vs = analyzer.polarity_scores(review)\n",
    "    return vs['compound']"
   ]
  },
  {
   "cell_type": "code",
   "execution_count": 106,
   "metadata": {},
   "outputs": [],
   "source": [
    "# function to analyse\n",
    "def vader_analysis(compound):\n",
    "    if compound >= 0.5:\n",
    "        return 'Positive'\n",
    "    elif compound <= -0.5 :\n",
    "        return 'Negative'\n",
    "    else:\n",
    "        return 'Neutral'"
   ]
  },
  {
   "cell_type": "code",
   "execution_count": 107,
   "metadata": {},
   "outputs": [],
   "source": [
    "fin_data['Vader_Sentiment'] = fin_data['Lemma'].apply(vadersentimentanalysis)"
   ]
  },
  {
   "cell_type": "code",
   "execution_count": 108,
   "metadata": {},
   "outputs": [],
   "source": [
    "fin_data['Vader_Analysis'] = fin_data['Vader_Sentiment'].apply(vader_analysis)"
   ]
  },
  {
   "cell_type": "code",
   "execution_count": 109,
   "metadata": {},
   "outputs": [
    {
     "data": {
      "text/html": [
       "<div>\n",
       "<style scoped>\n",
       "    .dataframe tbody tr th:only-of-type {\n",
       "        vertical-align: middle;\n",
       "    }\n",
       "\n",
       "    .dataframe tbody tr th {\n",
       "        vertical-align: top;\n",
       "    }\n",
       "\n",
       "    .dataframe thead th {\n",
       "        text-align: right;\n",
       "    }\n",
       "</style>\n",
       "<table border=\"1\" class=\"dataframe\">\n",
       "  <thead>\n",
       "    <tr style=\"text-align: right;\">\n",
       "      <th></th>\n",
       "      <th>Sentence</th>\n",
       "      <th>Author_name</th>\n",
       "      <th>Lemma</th>\n",
       "      <th>Vader_Sentiment</th>\n",
       "      <th>Vader_Analysis</th>\n",
       "    </tr>\n",
       "  </thead>\n",
       "  <tbody>\n",
       "    <tr>\n",
       "      <th>0</th>\n",
       "      <td>Our @csmcr alumni - Simona Alexandra, helping ...</td>\n",
       "      <td>Simona-Alexandra</td>\n",
       "      <td>csmcr alumnus Simona Alexandra help build so...</td>\n",
       "      <td>0.6597</td>\n",
       "      <td>Positive</td>\n",
       "    </tr>\n",
       "    <tr>\n",
       "      <th>1</th>\n",
       "      <td>She studied BSc in Software Engineering and g...</td>\n",
       "      <td>Simona-Alexandra</td>\n",
       "      <td>study BSc Software Engineering graduate June</td>\n",
       "      <td>0.0000</td>\n",
       "      <td>Neutral</td>\n",
       "    </tr>\n",
       "    <tr>\n",
       "      <th>2</th>\n",
       "      <td>Hello Simona! Can you tell us a bit about yo...</td>\n",
       "      <td>Simona-Alexandra</td>\n",
       "      <td>Hello Simona tell us bit education universit...</td>\n",
       "      <td>0.0000</td>\n",
       "      <td>Neutral</td>\n",
       "    </tr>\n",
       "    <tr>\n",
       "      <th>3</th>\n",
       "      <td>Similar to A levels in the UK, this was my in...</td>\n",
       "      <td>Simona-Alexandra</td>\n",
       "      <td>Similar level UK initial foundation towards ...</td>\n",
       "      <td>0.0000</td>\n",
       "      <td>Neutral</td>\n",
       "    </tr>\n",
       "    <tr>\n",
       "      <th>4</th>\n",
       "      <td>What career has your BSc in software enginee...</td>\n",
       "      <td>Simona-Alexandra</td>\n",
       "      <td>career BSc software engineering lead graduat...</td>\n",
       "      <td>0.0000</td>\n",
       "      <td>Neutral</td>\n",
       "    </tr>\n",
       "    <tr>\n",
       "      <th>...</th>\n",
       "      <td>...</td>\n",
       "      <td>...</td>\n",
       "      <td>...</td>\n",
       "      <td>...</td>\n",
       "      <td>...</td>\n",
       "    </tr>\n",
       "    <tr>\n",
       "      <th>1911</th>\n",
       "      <td>Follow him on twitter:  @matthew  nolan    Su...</td>\n",
       "      <td>Jack's story</td>\n",
       "      <td>Follow twitter matthew nolan Suggested post ...</td>\n",
       "      <td>0.3182</td>\n",
       "      <td>Neutral</td>\n",
       "    </tr>\n",
       "    <tr>\n",
       "      <th>1912</th>\n",
       "      <td>You need to log in or register to comment</td>\n",
       "      <td>Jack's story</td>\n",
       "      <td>need log register comment</td>\n",
       "      <td>0.0000</td>\n",
       "      <td>Neutral</td>\n",
       "    </tr>\n",
       "    <tr>\n",
       "      <th>1913</th>\n",
       "      <td>0 2021 Springer Nature Limited</td>\n",
       "      <td>Jack's story</td>\n",
       "      <td>Springer Nature Limited</td>\n",
       "      <td>-0.2263</td>\n",
       "      <td>Neutral</td>\n",
       "    </tr>\n",
       "    <tr>\n",
       "      <th>1914</th>\n",
       "      <td>All Rights Reserved</td>\n",
       "      <td>Jack's story</td>\n",
       "      <td>Rights Reserved</td>\n",
       "      <td>0.0000</td>\n",
       "      <td>Neutral</td>\n",
       "    </tr>\n",
       "    <tr>\n",
       "      <th>1915</th>\n",
       "      <td>partner of AGORA, HINARI, OARE, INASP, ORCID,...</td>\n",
       "      <td>Jack's story</td>\n",
       "      <td>partner AGORA HINARI OARE INASP ORCID CrossR...</td>\n",
       "      <td>0.4404</td>\n",
       "      <td>Neutral</td>\n",
       "    </tr>\n",
       "  </tbody>\n",
       "</table>\n",
       "<p>1916 rows × 5 columns</p>\n",
       "</div>"
      ],
      "text/plain": [
       "                                               Sentence       Author_name  \\\n",
       "0     Our @csmcr alumni - Simona Alexandra, helping ...  Simona-Alexandra   \n",
       "1      She studied BSc in Software Engineering and g...  Simona-Alexandra   \n",
       "2       Hello Simona! Can you tell us a bit about yo...  Simona-Alexandra   \n",
       "3      Similar to A levels in the UK, this was my in...  Simona-Alexandra   \n",
       "4       What career has your BSc in software enginee...  Simona-Alexandra   \n",
       "...                                                 ...               ...   \n",
       "1911   Follow him on twitter:  @matthew  nolan    Su...      Jack's story   \n",
       "1912          You need to log in or register to comment      Jack's story   \n",
       "1913                     0 2021 Springer Nature Limited      Jack's story   \n",
       "1914                                All Rights Reserved      Jack's story   \n",
       "1915   partner of AGORA, HINARI, OARE, INASP, ORCID,...      Jack's story   \n",
       "\n",
       "                                                  Lemma  Vader_Sentiment  \\\n",
       "0       csmcr alumnus Simona Alexandra help build so...           0.6597   \n",
       "1          study BSc Software Engineering graduate June           0.0000   \n",
       "2       Hello Simona tell us bit education universit...           0.0000   \n",
       "3       Similar level UK initial foundation towards ...           0.0000   \n",
       "4       career BSc software engineering lead graduat...           0.0000   \n",
       "...                                                 ...              ...   \n",
       "1911    Follow twitter matthew nolan Suggested post ...           0.3182   \n",
       "1912                          need log register comment           0.0000   \n",
       "1913                            Springer Nature Limited          -0.2263   \n",
       "1914                                    Rights Reserved           0.0000   \n",
       "1915    partner AGORA HINARI OARE INASP ORCID CrossR...           0.4404   \n",
       "\n",
       "     Vader_Analysis  \n",
       "0          Positive  \n",
       "1           Neutral  \n",
       "2           Neutral  \n",
       "3           Neutral  \n",
       "4           Neutral  \n",
       "...             ...  \n",
       "1911        Neutral  \n",
       "1912        Neutral  \n",
       "1913        Neutral  \n",
       "1914        Neutral  \n",
       "1915        Neutral  \n",
       "\n",
       "[1916 rows x 5 columns]"
      ]
     },
     "execution_count": 109,
     "metadata": {},
     "output_type": "execute_result"
    }
   ],
   "source": [
    "fin_data"
   ]
  },
  {
   "cell_type": "code",
   "execution_count": 110,
   "metadata": {},
   "outputs": [
    {
     "data": {
      "text/plain": [
       "Neutral     1284\n",
       "Positive     534\n",
       "Negative      98\n",
       "Name: Vader_Analysis, dtype: int64"
      ]
     },
     "execution_count": 110,
     "metadata": {},
     "output_type": "execute_result"
    }
   ],
   "source": [
    "vader_counts = fin_data['Vader_Analysis'].value_counts()\n",
    "vader_counts"
   ]
  },
  {
   "cell_type": "markdown",
   "metadata": {},
   "source": [
    "## Sentiment Analysis using TextBlob"
   ]
  },
  {
   "cell_type": "markdown",
   "metadata": {},
   "source": [
    "function to calculate subjectivity"
   ]
  },
  {
   "cell_type": "code",
   "execution_count": 111,
   "metadata": {},
   "outputs": [],
   "source": [
    "def getSubjectivity(review):\n",
    "    return TextBlob(review).sentiment.subjectivity"
   ]
  },
  {
   "cell_type": "markdown",
   "metadata": {},
   "source": [
    "function to calculate polarity"
   ]
  },
  {
   "cell_type": "code",
   "execution_count": 112,
   "metadata": {},
   "outputs": [],
   "source": [
    "def getPolarity(review):\n",
    "    return TextBlob(review).sentiment.polarity"
   ]
  },
  {
   "cell_type": "markdown",
   "metadata": {},
   "source": [
    "function to analyze the reviews"
   ]
  },
  {
   "cell_type": "code",
   "execution_count": 113,
   "metadata": {},
   "outputs": [],
   "source": [
    "def analysis(score):\n",
    "    if score < 0:\n",
    "        return 'Negative'\n",
    "    elif score == 0:\n",
    "        return 'Neutral'\n",
    "    else:\n",
    "        return 'Positive'"
   ]
  },
  {
   "cell_type": "code",
   "execution_count": 114,
   "metadata": {},
   "outputs": [
    {
     "data": {
      "text/html": [
       "<div>\n",
       "<style scoped>\n",
       "    .dataframe tbody tr th:only-of-type {\n",
       "        vertical-align: middle;\n",
       "    }\n",
       "\n",
       "    .dataframe tbody tr th {\n",
       "        vertical-align: top;\n",
       "    }\n",
       "\n",
       "    .dataframe thead th {\n",
       "        text-align: right;\n",
       "    }\n",
       "</style>\n",
       "<table border=\"1\" class=\"dataframe\">\n",
       "  <thead>\n",
       "    <tr style=\"text-align: right;\">\n",
       "      <th></th>\n",
       "      <th>Sentence</th>\n",
       "      <th>Author_name</th>\n",
       "      <th>Lemma</th>\n",
       "      <th>Vader_Sentiment</th>\n",
       "      <th>Vader_Analysis</th>\n",
       "      <th>TextBlob_Polarity</th>\n",
       "      <th>TextBlob_Analysis</th>\n",
       "    </tr>\n",
       "  </thead>\n",
       "  <tbody>\n",
       "    <tr>\n",
       "      <th>0</th>\n",
       "      <td>Our @csmcr alumni - Simona Alexandra, helping ...</td>\n",
       "      <td>Simona-Alexandra</td>\n",
       "      <td>csmcr alumnus Simona Alexandra help build so...</td>\n",
       "      <td>0.6597</td>\n",
       "      <td>Positive</td>\n",
       "      <td>0.175325</td>\n",
       "      <td>Positive</td>\n",
       "    </tr>\n",
       "    <tr>\n",
       "      <th>1</th>\n",
       "      <td>She studied BSc in Software Engineering and g...</td>\n",
       "      <td>Simona-Alexandra</td>\n",
       "      <td>study BSc Software Engineering graduate June</td>\n",
       "      <td>0.0000</td>\n",
       "      <td>Neutral</td>\n",
       "      <td>0.000000</td>\n",
       "      <td>Neutral</td>\n",
       "    </tr>\n",
       "    <tr>\n",
       "      <th>2</th>\n",
       "      <td>Hello Simona! Can you tell us a bit about yo...</td>\n",
       "      <td>Simona-Alexandra</td>\n",
       "      <td>Hello Simona tell us bit education universit...</td>\n",
       "      <td>0.0000</td>\n",
       "      <td>Neutral</td>\n",
       "      <td>0.080000</td>\n",
       "      <td>Positive</td>\n",
       "    </tr>\n",
       "    <tr>\n",
       "      <th>3</th>\n",
       "      <td>Similar to A levels in the UK, this was my in...</td>\n",
       "      <td>Simona-Alexandra</td>\n",
       "      <td>Similar level UK initial foundation towards ...</td>\n",
       "      <td>0.0000</td>\n",
       "      <td>Neutral</td>\n",
       "      <td>0.000000</td>\n",
       "      <td>Neutral</td>\n",
       "    </tr>\n",
       "    <tr>\n",
       "      <th>4</th>\n",
       "      <td>What career has your BSc in software enginee...</td>\n",
       "      <td>Simona-Alexandra</td>\n",
       "      <td>career BSc software engineering lead graduat...</td>\n",
       "      <td>0.0000</td>\n",
       "      <td>Neutral</td>\n",
       "      <td>-0.800000</td>\n",
       "      <td>Negative</td>\n",
       "    </tr>\n",
       "  </tbody>\n",
       "</table>\n",
       "</div>"
      ],
      "text/plain": [
       "                                            Sentence       Author_name  \\\n",
       "0  Our @csmcr alumni - Simona Alexandra, helping ...  Simona-Alexandra   \n",
       "1   She studied BSc in Software Engineering and g...  Simona-Alexandra   \n",
       "2    Hello Simona! Can you tell us a bit about yo...  Simona-Alexandra   \n",
       "3   Similar to A levels in the UK, this was my in...  Simona-Alexandra   \n",
       "4    What career has your BSc in software enginee...  Simona-Alexandra   \n",
       "\n",
       "                                               Lemma  Vader_Sentiment  \\\n",
       "0    csmcr alumnus Simona Alexandra help build so...           0.6597   \n",
       "1       study BSc Software Engineering graduate June           0.0000   \n",
       "2    Hello Simona tell us bit education universit...           0.0000   \n",
       "3    Similar level UK initial foundation towards ...           0.0000   \n",
       "4    career BSc software engineering lead graduat...           0.0000   \n",
       "\n",
       "  Vader_Analysis  TextBlob_Polarity TextBlob_Analysis  \n",
       "0       Positive           0.175325          Positive  \n",
       "1        Neutral           0.000000           Neutral  \n",
       "2        Neutral           0.080000          Positive  \n",
       "3        Neutral           0.000000           Neutral  \n",
       "4        Neutral          -0.800000          Negative  "
      ]
     },
     "execution_count": 114,
     "metadata": {},
     "output_type": "execute_result"
    }
   ],
   "source": [
    "fin_data['TextBlob_Polarity'] = fin_data['Lemma'].apply(getPolarity) \n",
    "fin_data['TextBlob_Analysis'] = fin_data['TextBlob_Polarity'].apply(analysis)\n",
    "fin_data.head()"
   ]
  },
  {
   "cell_type": "code",
   "execution_count": 115,
   "metadata": {},
   "outputs": [
    {
     "data": {
      "text/plain": [
       "Neutral     931\n",
       "Positive    746\n",
       "Negative    239\n",
       "Name: TextBlob_Analysis, dtype: int64"
      ]
     },
     "execution_count": 115,
     "metadata": {},
     "output_type": "execute_result"
    }
   ],
   "source": [
    "tb_counts = fin_data.TextBlob_Analysis.value_counts()\n",
    "tb_counts"
   ]
  },
  {
   "cell_type": "markdown",
   "metadata": {},
   "source": [
    "## Sentiment Analysis using Flair"
   ]
  },
  {
   "cell_type": "code",
   "execution_count": 80,
   "metadata": {},
   "outputs": [],
   "source": [
    "def flair_senti(text):\n",
    "    sentence = Sentence(text)\n",
    "    senti = classifier.predict(sentence)\n",
    "    return senti"
   ]
  },
  {
   "cell_type": "code",
   "execution_count": 81,
   "metadata": {},
   "outputs": [
    {
     "name": "stdout",
     "output_type": "stream",
     "text": [
      "2022-04-06 21:15:31,240 loading file /home/tourist800/.flair/models/sentiment-en-mix-distillbert_4.pt\n"
     ]
    }
   ],
   "source": [
    "classifier = TextClassifier.load('en-sentiment')"
   ]
  },
  {
   "cell_type": "code",
   "execution_count": 82,
   "metadata": {},
   "outputs": [],
   "source": [
    "fin_data['Flair_Analysis'] = fin_data['Lemma'].apply(flair_senti)\n"
   ]
  },
  {
   "cell_type": "markdown",
   "metadata": {},
   "source": [
    "## Sentiment Analysis using SentiWordNet"
   ]
  },
  {
   "cell_type": "code",
   "execution_count": 32,
   "metadata": {},
   "outputs": [],
   "source": [
    "def sentiwordnetanalysis(pos_data):\n",
    "    sentiment = 0\n",
    "    tokens_count = 0\n",
    "    for word, pos in pos_data:\n",
    "        if not pos:\n",
    "            continue\n",
    "            \n",
    "        lemma = wordnet_lemmatizer.lemmatize(word, pos=pos)\n",
    "        if not lemma:\n",
    "            continue\n",
    "            \n",
    "        synsets = wordnet.synsets(lemma, pos=pos)\n",
    "        if not synsets:\n",
    "            continue\n",
    "            # Take the first sense, the most common\n",
    "            synset = synsets[0]\n",
    "            swn_synset = swn.senti_synset(synset.name())\n",
    "            sentiment += swn_synset.pos_score() - swn_synset.neg_score()\n",
    "            tokens_count += 1\n",
    "            # print(swn_synset.pos_score(),swn_synset.neg_score(),swn_synset.obj_score())\n",
    "        if not tokens_count:\n",
    "            return 0\n",
    "        if sentiment>0:\n",
    "            return \"Positive\"\n",
    "        if sentiment==0:\n",
    "            return \"Neutral\"\n",
    "        else:\n",
    "            return \"Negative\""
   ]
  },
  {
   "cell_type": "code",
   "execution_count": 33,
   "metadata": {},
   "outputs": [],
   "source": [
    "fin_data['SWN_Polarity'] = df['POS_tagged'].apply(sentiwordnetanalysis)"
   ]
  },
  {
   "cell_type": "code",
   "execution_count": 34,
   "metadata": {},
   "outputs": [],
   "source": [
    "fin_data['SWN_Analysis'] = fin_data['SWN_Polarity'].apply(analysis)"
   ]
  },
  {
   "cell_type": "code",
   "execution_count": 35,
   "metadata": {},
   "outputs": [
    {
     "data": {
      "text/html": [
       "<div>\n",
       "<style scoped>\n",
       "    .dataframe tbody tr th:only-of-type {\n",
       "        vertical-align: middle;\n",
       "    }\n",
       "\n",
       "    .dataframe tbody tr th {\n",
       "        vertical-align: top;\n",
       "    }\n",
       "\n",
       "    .dataframe thead th {\n",
       "        text-align: right;\n",
       "    }\n",
       "</style>\n",
       "<table border=\"1\" class=\"dataframe\">\n",
       "  <thead>\n",
       "    <tr style=\"text-align: right;\">\n",
       "      <th></th>\n",
       "      <th>Sentence</th>\n",
       "      <th>Author_name</th>\n",
       "      <th>Lemma</th>\n",
       "      <th>Vader_Sentiment</th>\n",
       "      <th>Vader_Analysis</th>\n",
       "      <th>TextBlob_Polarity</th>\n",
       "      <th>TextBlob_Analysis</th>\n",
       "      <th>Flair_Analysis</th>\n",
       "      <th>SWN_Polarity</th>\n",
       "      <th>SWN_Analysis</th>\n",
       "    </tr>\n",
       "  </thead>\n",
       "  <tbody>\n",
       "    <tr>\n",
       "      <th>0</th>\n",
       "      <td>Our @csmcr alumni - Simona Alexandra, helping ...</td>\n",
       "      <td>Simona-Alexandra</td>\n",
       "      <td>csmcr alumnus Simona Alexandra help build so...</td>\n",
       "      <td>0.6597</td>\n",
       "      <td>Positive</td>\n",
       "      <td>0.175325</td>\n",
       "      <td>Positive</td>\n",
       "      <td>None</td>\n",
       "      <td>0.0</td>\n",
       "      <td>Neutral</td>\n",
       "    </tr>\n",
       "    <tr>\n",
       "      <th>1</th>\n",
       "      <td>She studied BSc in Software Engineering and g...</td>\n",
       "      <td>Simona-Alexandra</td>\n",
       "      <td>study BSc Software Engineering graduate June</td>\n",
       "      <td>0.0000</td>\n",
       "      <td>Neutral</td>\n",
       "      <td>0.000000</td>\n",
       "      <td>Neutral</td>\n",
       "      <td>None</td>\n",
       "      <td>0.0</td>\n",
       "      <td>Neutral</td>\n",
       "    </tr>\n",
       "    <tr>\n",
       "      <th>2</th>\n",
       "      <td>Hello Simona! Can you tell us a bit about yo...</td>\n",
       "      <td>Simona-Alexandra</td>\n",
       "      <td>Hello Simona tell us bit education universit...</td>\n",
       "      <td>0.0000</td>\n",
       "      <td>Neutral</td>\n",
       "      <td>0.080000</td>\n",
       "      <td>Positive</td>\n",
       "      <td>None</td>\n",
       "      <td>0.0</td>\n",
       "      <td>Neutral</td>\n",
       "    </tr>\n",
       "    <tr>\n",
       "      <th>3</th>\n",
       "      <td>Similar to A levels in the UK, this was my in...</td>\n",
       "      <td>Simona-Alexandra</td>\n",
       "      <td>Similar level UK initial foundation towards ...</td>\n",
       "      <td>0.0000</td>\n",
       "      <td>Neutral</td>\n",
       "      <td>0.000000</td>\n",
       "      <td>Neutral</td>\n",
       "      <td>None</td>\n",
       "      <td>0.0</td>\n",
       "      <td>Neutral</td>\n",
       "    </tr>\n",
       "  </tbody>\n",
       "</table>\n",
       "</div>"
      ],
      "text/plain": [
       "                                            Sentence       Author_name  \\\n",
       "0  Our @csmcr alumni - Simona Alexandra, helping ...  Simona-Alexandra   \n",
       "1   She studied BSc in Software Engineering and g...  Simona-Alexandra   \n",
       "2    Hello Simona! Can you tell us a bit about yo...  Simona-Alexandra   \n",
       "3   Similar to A levels in the UK, this was my in...  Simona-Alexandra   \n",
       "\n",
       "                                               Lemma  Vader_Sentiment  \\\n",
       "0    csmcr alumnus Simona Alexandra help build so...           0.6597   \n",
       "1       study BSc Software Engineering graduate June           0.0000   \n",
       "2    Hello Simona tell us bit education universit...           0.0000   \n",
       "3    Similar level UK initial foundation towards ...           0.0000   \n",
       "\n",
       "  Vader_Analysis  TextBlob_Polarity TextBlob_Analysis Flair_Analysis  \\\n",
       "0       Positive           0.175325          Positive           None   \n",
       "1        Neutral           0.000000           Neutral           None   \n",
       "2        Neutral           0.080000          Positive           None   \n",
       "3        Neutral           0.000000           Neutral           None   \n",
       "\n",
       "   SWN_Polarity SWN_Analysis  \n",
       "0           0.0      Neutral  \n",
       "1           0.0      Neutral  \n",
       "2           0.0      Neutral  \n",
       "3           0.0      Neutral  "
      ]
     },
     "execution_count": 35,
     "metadata": {},
     "output_type": "execute_result"
    }
   ],
   "source": [
    "fin_data.head(4)"
   ]
  },
  {
   "cell_type": "code",
   "execution_count": 36,
   "metadata": {},
   "outputs": [
    {
     "data": {
      "text/plain": [
       "Neutral     2052\n",
       "Positive      17\n",
       "Name: SWN_Analysis, dtype: int64"
      ]
     },
     "execution_count": 36,
     "metadata": {},
     "output_type": "execute_result"
    }
   ],
   "source": [
    "swn_counts= fin_data['SWN_Analysis'].value_counts()\n",
    "swn_counts"
   ]
  },
  {
   "cell_type": "code",
   "execution_count": 116,
   "metadata": {},
   "outputs": [],
   "source": [
    "result_df = pd.DataFrame(fin_data[['Sentence', 'Author_name', 'Vader_Sentiment','Vader_Analysis','TextBlob_Polarity',\n",
    "                                  'TextBlob_Analysis']])"
   ]
  },
  {
   "cell_type": "code",
   "execution_count": 117,
   "metadata": {},
   "outputs": [
    {
     "data": {
      "text/plain": [
       "' I am used to production and research of artists, but I also have been involved in what is called Electroacoustic Music'"
      ]
     },
     "execution_count": 117,
     "metadata": {},
     "output_type": "execute_result"
    }
   ],
   "source": [
    "result_df.Sentence[33]"
   ]
  },
  {
   "cell_type": "code",
   "execution_count": 118,
   "metadata": {},
   "outputs": [],
   "source": [
    "result_df.to_csv('result.csv')"
   ]
  },
  {
   "cell_type": "markdown",
   "metadata": {},
   "source": [
    "## Visual representation of TextBlob, VADER, SentiWordNet results"
   ]
  },
  {
   "cell_type": "code",
   "execution_count": null,
   "metadata": {},
   "outputs": [],
   "source": [
    "import matplotlib.pyplot as plt\n",
    "%matplotlib inline\n",
    "plt.figure(figsize=(15,7))\n",
    "plt.subplot(1,3,1)\n",
    "plt.title(\"TextBlob results\")\n",
    "plt.pie(tb_counts.values, labels = tb_counts.index, explode = (0, 0, 0.25), autopct='%1.1f%%', shadow=False)\n",
    "plt.subplot(1,3,2)\n",
    "plt.title(\"VADER results\")\n",
    "plt.pie(vader_counts.values, labels = vader_counts.index, explode = (0, 0, 0.25), autopct='%1.1f%%', shadow=False)\n",
    "# plt.subplot(1,3,3)\n",
    "# plt.title(\"SentiWordNet results\")\n",
    "# plt.pie(swn_counts.values, labels = swn_counts.index, explode = (0, 0, 0.25), autopct='%1.1f%%', shadow=False)"
   ]
  },
  {
   "cell_type": "code",
   "execution_count": null,
   "metadata": {},
   "outputs": [],
   "source": []
  }
 ],
 "metadata": {
  "kernelspec": {
   "display_name": "Python 3",
   "language": "python",
   "name": "python3"
  },
  "language_info": {
   "codemirror_mode": {
    "name": "ipython",
    "version": 3
   },
   "file_extension": ".py",
   "mimetype": "text/x-python",
   "name": "python",
   "nbconvert_exporter": "python",
   "pygments_lexer": "ipython3",
   "version": "3.7.6"
  }
 },
 "nbformat": 4,
 "nbformat_minor": 4
}
